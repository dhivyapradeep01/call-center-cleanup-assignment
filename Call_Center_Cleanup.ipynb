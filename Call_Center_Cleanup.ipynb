{
 "cells": [
  {
   "cell_type": "markdown",
   "id": "331a1c4f",
   "metadata": {},
   "source": [
    "# Call Center Cleanup\n",
    "\n",
    "For this assignment, we will be working with call center data. You can start working on the assignment after the first lesson on Exploratory Data Analysis with pandas. Make sure to read the whole assignment before starting anything! As you code along in the Jupyter notebook, you are asked to make note of the results of your analysis. Do so by clicking on the results box and adding your notes beside each question.\n",
    "\n",
    "## Business Issue and Understanding\n",
    "\n",
    "You are working for a company that has two call centers: the North Call Center and the South Call Center. The company is looking to possibly hire five additional reps to enhance customer experience. Your task is to explore how efficient the current reps are in each branch to determine which branch would benefit from additional assistance.\n",
    "\n",
    "### How the Call Center Works\n",
    "\n",
    "Call center representatives are assigned queues. When calls are assigned to a queue, the call is assigned to the next person in line in the queue. After a call is assigned to a representative, the amount of time between assignment and the call starting is divided into busy minutes and not ready minutes. If the call is incoming and a customer is waiting on the phone for a rep, the time is split into three categories: busy minutes, not ready minutes, and incoming call wait time. Once the rep has the customer on the phone, there might be during call wait time, where the call is put on hold while the rep gets an answer for the customer.\n",
    "\n",
    "### Notes about the Dataset\n",
    "\n",
    "If you haven't worked in a call center before, these notes might help you throughout your analysis.\n",
    "\n",
    "* The call purpose is tagged for each call.\n",
    "* The time of the call is tagged in 1 hour blocks starting at 9:00 AM and ending at 5:00 PM.\n",
    "* Calls are tagged as incoming or outgoing.\n",
    "* Reps are assigned to queues. When the reps are working, they take calls in the order of their queue.\n",
    "* A call that is dropped due to technical error or missed by the center because they have reached maximum capacity is a lost call.\n",
    "* An abandoned call is when the customer hangs up because they have been waiting for too long.\n",
    "* Busy Minutes: the amount of time after a call comes in or needs to go out where the assigned rep is not available because they are busy with other customers.\n",
    "* Not Ready Minutes: the amount of time after a call comes in or needs to go out where the assigned rep is not available because they are not ready (for example, getting water).\n",
    "* Incoming Wait Time - amount of time after assigned rep is available to take the call customer waits for representative to pick up a call. This is tracked in seconds.\n",
    "* During Call Wait Time - amount of time during call that customer has to wait for representative\n",
    "\n",
    "## Getting Started\n",
    "\n",
    "You have two CSVs at your disposal, `NorthCallCenter.csv` and `SouthCallCenter.csv`. Import the appropriate libraries and create two dataframes, one called `north_df` and one called `south_df`."
   ]
  },
  {
   "cell_type": "code",
   "execution_count": 2,
   "id": "f362436b",
   "metadata": {},
   "outputs": [],
   "source": [
    "# Import the appropriate libraries with aliases\n",
    "import pandas as pd\n",
    "import numpy as np\n",
    "import matplotlib.pyplot as plt\n",
    "import seaborn as sns\n",
    "# Create two new dataframes\n",
    "north_df = pd.read_csv('NorthCallCenter.csv')\n",
    "south_df = pd.read_csv('SouthCallCenter.csv')"
   ]
  },
  {
   "cell_type": "code",
   "execution_count": 3,
   "id": "102cfa46",
   "metadata": {},
   "outputs": [
    {
     "name": "stdout",
     "output_type": "stream",
     "text": [
      "<class 'pandas.core.frame.DataFrame'>\n",
      "RangeIndex: 245 entries, 0 to 244\n",
      "Data columns (total 15 columns):\n",
      " #   Column                 Non-Null Count  Dtype  \n",
      "---  ------                 --------------  -----  \n",
      " 0   Unnamed: 0             245 non-null    int64  \n",
      " 1   Branch                 245 non-null    object \n",
      " 2   Call Purpose           245 non-null    object \n",
      " 3   Time Block             245 non-null    object \n",
      " 4   Incoming or Outgoing   245 non-null    object \n",
      " 5   Queue                  245 non-null    object \n",
      " 6   Rep ID                 245 non-null    object \n",
      " 7   Sale                   245 non-null    object \n",
      " 8   Lost Call              245 non-null    int64  \n",
      " 9   Abandoned              245 non-null    int64  \n",
      " 10  Busy Minutes           245 non-null    int64  \n",
      " 11  Not Ready Minutes      245 non-null    int64  \n",
      " 12  Incoming Wait Time     82 non-null     float64\n",
      " 13  During Call Wait Time  245 non-null    int64  \n",
      " 14  Calls                  245 non-null    int64  \n",
      "dtypes: float64(1), int64(7), object(7)\n",
      "memory usage: 28.8+ KB\n"
     ]
    },
    {
     "data": {
      "text/plain": [
       "count    82.000000\n",
       "mean      3.048780\n",
       "std       1.456382\n",
       "min       1.000000\n",
       "25%       2.000000\n",
       "50%       3.000000\n",
       "75%       4.000000\n",
       "max       5.000000\n",
       "Name: Incoming Wait Time, dtype: float64"
      ]
     },
     "execution_count": 3,
     "metadata": {},
     "output_type": "execute_result"
    }
   ],
   "source": [
    "north_df.info() #'Incoming Wait Time' only has 82 non-null entries out of 245, indicating significant missing data\n",
    "north_df['Incoming Wait Time'].describe()\n"
   ]
  },
  {
   "cell_type": "code",
   "execution_count": 4,
   "id": "c5e81199",
   "metadata": {},
   "outputs": [
    {
     "name": "stdout",
     "output_type": "stream",
     "text": [
      "<class 'pandas.core.frame.DataFrame'>\n",
      "RangeIndex: 314 entries, 0 to 313\n",
      "Data columns (total 15 columns):\n",
      " #   Column                 Non-Null Count  Dtype  \n",
      "---  ------                 --------------  -----  \n",
      " 0   Unnamed: 0             314 non-null    int64  \n",
      " 1   Branch                 314 non-null    object \n",
      " 2   Call Purpose           314 non-null    object \n",
      " 3   Time Block             314 non-null    object \n",
      " 4   Incoming or Outgoing   314 non-null    object \n",
      " 5   Queue                  314 non-null    object \n",
      " 6   Rep ID                 314 non-null    object \n",
      " 7   Sale                   314 non-null    object \n",
      " 8   Lost Call              314 non-null    int64  \n",
      " 9   Abandoned              314 non-null    int64  \n",
      " 10  Busy Minutes           314 non-null    int64  \n",
      " 11  Not Ready Minutes      314 non-null    int64  \n",
      " 12  Incoming Wait Time     126 non-null    float64\n",
      " 13  During Call Wait Time  314 non-null    int64  \n",
      " 14  Calls                  314 non-null    int64  \n",
      "dtypes: float64(1), int64(7), object(7)\n",
      "memory usage: 36.9+ KB\n"
     ]
    },
    {
     "data": {
      "text/plain": [
       "count    126.000000\n",
       "mean       3.000000\n",
       "std        1.308434\n",
       "min        1.000000\n",
       "25%        2.000000\n",
       "50%        3.000000\n",
       "75%        4.000000\n",
       "max        5.000000\n",
       "Name: Incoming Wait Time, dtype: float64"
      ]
     },
     "execution_count": 4,
     "metadata": {},
     "output_type": "execute_result"
    }
   ],
   "source": [
    "south_df.info() ##'Incoming Wait Time' only has 126 non-null entries out of 314, indicating significant missing data\n",
    "south_df['Incoming Wait Time'].describe()"
   ]
  },
  {
   "cell_type": "code",
   "execution_count": 5,
   "id": "32f88923",
   "metadata": {},
   "outputs": [
    {
     "name": "stdout",
     "output_type": "stream",
     "text": [
      "Incoming or Outgoing\n",
      "Incoming    82\n",
      "Outgoing     0\n",
      "Name: Incoming Wait Time, dtype: int64\n"
     ]
    }
   ],
   "source": [
    "north_pattern = north_df.groupby('Incoming or Outgoing')['Incoming Wait Time'].count() \n",
    "print(north_pattern)\n",
    "\n"
   ]
  },
  {
   "cell_type": "code",
   "execution_count": 6,
   "id": "164d574a",
   "metadata": {},
   "outputs": [
    {
     "name": "stdout",
     "output_type": "stream",
     "text": [
      "Incoming or Outgoing\n",
      "Incoming    126\n",
      "Outgoing      0\n",
      "Name: Incoming Wait Time, dtype: int64\n"
     ]
    }
   ],
   "source": [
    "south_pattern = south_df.groupby('Incoming or Outgoing')['Incoming Wait Time'].count()\n",
    "print(south_pattern)"
   ]
  },
  {
   "cell_type": "code",
   "execution_count": 7,
   "id": "a82e2869",
   "metadata": {},
   "outputs": [
    {
     "name": "stdout",
     "output_type": "stream",
     "text": [
      "Duplicates in north branch: 0\n",
      "Duplicates in south branch: 0\n"
     ]
    }
   ],
   "source": [
    "north_duplicates = north_df.duplicated().sum()\n",
    "south_duplicates = south_df.duplicated().sum()\n",
    "print(f\"Duplicates in north branch: {north_duplicates}\")\n",
    "print(f\"Duplicates in south branch: {south_duplicates}\")\n"
   ]
  },
  {
   "cell_type": "markdown",
   "id": "b4d3484b",
   "metadata": {},
   "source": [
    "## Task 1: Exploratory Data Analysis\n",
    "\n",
    "Time to do some EDA! In the process of learning more about the two datasets, answer the following questions. Use the code blocks below to begin cleaning your data. At the end of the section, record your answers."
   ]
  },
  {
   "cell_type": "markdown",
   "id": "76898991",
   "metadata": {},
   "source": [
    "#### EDA Question 1A:  How many reps are in the North branch?  "
   ]
  },
  {
   "cell_type": "code",
   "execution_count": 8,
   "id": "ce3eb5e4",
   "metadata": {},
   "outputs": [
    {
     "name": "stdout",
     "output_type": "stream",
     "text": [
      "Number of reps in the North branch: 9\n"
     ]
    }
   ],
   "source": [
    "# EDA Question 1A solution below:\n",
    "# Count unique representatives in the North branch\n",
    "num_reps_north = north_df['Rep ID'].nunique()\n",
    "print(f\"Number of reps in the North branch: {num_reps_north}\")\n",
    "\n"
   ]
  },
  {
   "cell_type": "markdown",
   "id": "2a9b34d8",
   "metadata": {},
   "source": [
    "#### EDA Question 1B:  How many reps are in the South branch?  "
   ]
  },
  {
   "cell_type": "code",
   "execution_count": 9,
   "id": "3c715bbf",
   "metadata": {},
   "outputs": [
    {
     "name": "stdout",
     "output_type": "stream",
     "text": [
      "Number of reps in the south branch: 11\n"
     ]
    }
   ],
   "source": [
    "# EDA Question 1B solution Below:\n",
    "num_reps_south = south_df['Rep ID'].nunique()\n",
    "print(f\"Number of reps in the south branch: {num_reps_south}\")"
   ]
  },
  {
   "cell_type": "markdown",
   "id": "a872f045",
   "metadata": {},
   "source": [
    "#### EDA Question 2A:  What is the average busy minutes, not ready minutes, incoming wait time, and during call wait time for the North branch? "
   ]
  },
  {
   "cell_type": "code",
   "execution_count": 10,
   "id": "3759305f",
   "metadata": {},
   "outputs": [
    {
     "name": "stdout",
     "output_type": "stream",
     "text": [
      "Average busy minutes in north branch is : 9.99\n",
      "Average not ready minutes in north branch is : 1.91\n",
      "Average incoming Wait Time in north branch is : 3.05\n",
      "Average During Call Wait Time in north branch is : 2.97\n",
      "total number of calls north branch is : 245\n"
     ]
    }
   ],
   "source": [
    "# EDA Question 2A solution Below:\n",
    "average_busy_minutes = north_df['Busy Minutes'].mean()\n",
    "average_not_ready_minutes = north_df['Not Ready Minutes'].mean()\n",
    "average_incoming_wait_time = north_df['Incoming Wait Time'].mean()\n",
    "average_during_call_wait_time = north_df['During Call Wait Time'].mean()\n",
    "number_of_calls = north_df['Calls'].sum()\n",
    "print(f'Average busy minutes in north branch is : {round(average_busy_minutes, 2)}')\n",
    "print(f'Average not ready minutes in north branch is : {round(average_not_ready_minutes, 2)}')\n",
    "print(f'Average incoming Wait Time in north branch is : {round(average_incoming_wait_time,2)}')\n",
    "print(f'Average During Call Wait Time in north branch is : {round(average_during_call_wait_time,2)}')\n",
    "print(f'total number of calls north branch is : {round(number_of_calls,2)}')"
   ]
  },
  {
   "cell_type": "markdown",
   "id": "3851cf3e",
   "metadata": {},
   "source": [
    "#### EDA Question 2B:  What is the average busy minutes, not ready minutes, incoming wait time, and during call wait time for the South branch? "
   ]
  },
  {
   "cell_type": "code",
   "execution_count": 11,
   "id": "a77ec152",
   "metadata": {},
   "outputs": [
    {
     "name": "stdout",
     "output_type": "stream",
     "text": [
      "Average busy minutes in south branch is : 10.05\n",
      "Average not ready minutes in south branch is : 1.91\n",
      "Average incoming Wait Time in south branch is : 3.0\n",
      "Average During Call Wait Time in south branch is : 3.08\n",
      "total number of calls south branch is : 314\n"
     ]
    }
   ],
   "source": [
    "# EDA Question 2B solution Below:\n",
    "average_busy_minutes = south_df['Busy Minutes'].mean()\n",
    "average_not_ready_minutes = south_df['Not Ready Minutes'].mean()\n",
    "average_incoming_wait_time = south_df['Incoming Wait Time'].mean()\n",
    "average_during_call_wait_time = south_df['During Call Wait Time'].mean()\n",
    "number_of_calls = south_df['Calls'].sum()\n",
    "\n",
    "print(f'Average busy minutes in south branch is : {round(average_busy_minutes, 2)}')\n",
    "print(f'Average not ready minutes in south branch is : {round(average_not_ready_minutes, 2)}')\n",
    "print(f'Average incoming Wait Time in south branch is : {round(average_incoming_wait_time,2)}')\n",
    "print(f'Average During Call Wait Time in south branch is : {round(average_during_call_wait_time,2)}')\n",
    "print(f'total number of calls south branch is : {round(number_of_calls,2)}')"
   ]
  },
  {
   "cell_type": "markdown",
   "id": "75915553",
   "metadata": {},
   "source": [
    "#### EDA Question 3:  What is the number of calls taken for each time block(Both North and South combined)?"
   ]
  },
  {
   "cell_type": "code",
   "execution_count": 12,
   "id": "49566936",
   "metadata": {},
   "outputs": [
    {
     "name": "stdout",
     "output_type": "stream",
     "text": [
      "Time Block\n",
      "10:00 AM     99\n",
      "11:00 AM     56\n",
      "12:00 PM    120\n",
      "1:00 PM      40\n",
      "2:00 PM      65\n",
      "3:00 PM      73\n",
      "4:00 PM      53\n",
      "5:00 PM      43\n",
      "9:00 AM      10\n",
      "Name: Calls, dtype: int64\n"
     ]
    }
   ],
   "source": [
    "# EDA Question 3 solution Below:\n",
    "combined_df = pd.concat([north_df, south_df], ignore_index=True)\n",
    "calls_by_timeblock = combined_df.groupby('Time Block')['Calls'].sum().sort_index()\n",
    "print(calls_by_timeblock)"
   ]
  },
  {
   "cell_type": "markdown",
   "id": "40b1fd3f",
   "metadata": {},
   "source": [
    "##### Record your answers for the EDA section below:\n",
    "- 1a) Reps in the North Branch = 9\n",
    "- 1b) Reps in the South Branch = 11\n",
    "\n",
    "- 2a) North Branch, (round to the nearest hundredth):\n",
    "> - Busy Minutes = 9.99\n",
    "> - Not Ready Minutes = 1.91\n",
    "> - Incoming Wait Time =  3.05\n",
    "> - During Call Wait Time = 2.97\n",
    "\n",
    "- 2b) South Branch, (round to the nearest hundredth):\n",
    "> - Busy Minutes = 10.05\n",
    "> - Not Ready Minutes = 1.91\n",
    "> - Incoming Wait Time = 3.0\n",
    "> - During Call Wait Time = 3.08\n",
    "\n",
    "- 3) Total Calls taken for all branches per time block:\n",
    "> - 9:00AM   = 10\n",
    "> - 10:00AM  = 99\n",
    "> - 11:00AM  = 56\n",
    "> - 12:00PM  = 120\n",
    "> - 1:00PM   = 40\n",
    "> - 2:00PM   = 65\n",
    "> - 3:00PM   = 73\n",
    "> - 4:00PM   = 53\n",
    "> - 5:00PM   = 43\n",
    "\n"
   ]
  },
  {
   "cell_type": "markdown",
   "id": "366bfb19",
   "metadata": {},
   "source": [
    "## Task 2: Cleaning Your Data \n",
    "Now you need to clean up the datasets. When cleaning the datasets, you may find that there isn't dirty data to clean. That is okay! Some questions you need to answer about the data sets.\n",
    "* Add additional code blocks as needed to show how you came to your conclusions. Add comments in your code blocks to help others understand your thinking. "
   ]
  },
  {
   "cell_type": "markdown",
   "id": "c3564d69",
   "metadata": {},
   "source": [
    "#### Cleaning Question 1:  Is there any missing data and if yes explain what you would do with the missing data and why?"
   ]
  },
  {
   "cell_type": "code",
   "execution_count": 13,
   "id": "b77fb574",
   "metadata": {},
   "outputs": [
    {
     "name": "stdout",
     "output_type": "stream",
     "text": [
      "<class 'pandas.core.frame.DataFrame'>\n",
      "RangeIndex: 245 entries, 0 to 244\n",
      "Data columns (total 15 columns):\n",
      " #   Column                 Non-Null Count  Dtype  \n",
      "---  ------                 --------------  -----  \n",
      " 0   Unnamed: 0             245 non-null    int64  \n",
      " 1   Branch                 245 non-null    object \n",
      " 2   Call Purpose           245 non-null    object \n",
      " 3   Time Block             245 non-null    object \n",
      " 4   Incoming or Outgoing   245 non-null    object \n",
      " 5   Queue                  245 non-null    object \n",
      " 6   Rep ID                 245 non-null    object \n",
      " 7   Sale                   245 non-null    object \n",
      " 8   Lost Call              245 non-null    int64  \n",
      " 9   Abandoned              245 non-null    int64  \n",
      " 10  Busy Minutes           245 non-null    int64  \n",
      " 11  Not Ready Minutes      245 non-null    int64  \n",
      " 12  Incoming Wait Time     82 non-null     float64\n",
      " 13  During Call Wait Time  245 non-null    int64  \n",
      " 14  Calls                  245 non-null    int64  \n",
      "dtypes: float64(1), int64(7), object(7)\n",
      "memory usage: 28.8+ KB\n",
      "<class 'pandas.core.frame.DataFrame'>\n",
      "RangeIndex: 314 entries, 0 to 313\n",
      "Data columns (total 15 columns):\n",
      " #   Column                 Non-Null Count  Dtype  \n",
      "---  ------                 --------------  -----  \n",
      " 0   Unnamed: 0             314 non-null    int64  \n",
      " 1   Branch                 314 non-null    object \n",
      " 2   Call Purpose           314 non-null    object \n",
      " 3   Time Block             314 non-null    object \n",
      " 4   Incoming or Outgoing   314 non-null    object \n",
      " 5   Queue                  314 non-null    object \n",
      " 6   Rep ID                 314 non-null    object \n",
      " 7   Sale                   314 non-null    object \n",
      " 8   Lost Call              314 non-null    int64  \n",
      " 9   Abandoned              314 non-null    int64  \n",
      " 10  Busy Minutes           314 non-null    int64  \n",
      " 11  Not Ready Minutes      314 non-null    int64  \n",
      " 12  Incoming Wait Time     126 non-null    float64\n",
      " 13  During Call Wait Time  314 non-null    int64  \n",
      " 14  Calls                  314 non-null    int64  \n",
      "dtypes: float64(1), int64(7), object(7)\n",
      "memory usage: 36.9+ KB\n",
      "Incoming or Outgoing\n",
      "Incoming    82\n",
      "Outgoing     0\n",
      "Name: Incoming Wait Time, dtype: int64\n",
      "Incoming or Outgoing\n",
      "Incoming    126\n",
      "Outgoing      0\n",
      "Name: Incoming Wait Time, dtype: int64\n"
     ]
    }
   ],
   "source": [
    "# Question 1 solution below\n",
    "north_df.info() #'Incoming Wait Time' only has 82 non-null entries out of 245, indicating significant missing data\n",
    "south_df.info() ##'Incoming Wait Time' only has 126 non-null entries out of 314, indicating significant missing data\n",
    "\n",
    "north_pattern = north_df.groupby('Incoming or Outgoing')['Incoming Wait Time'].count() \n",
    "print(north_pattern)\n",
    "south_pattern = south_df.groupby('Incoming or Outgoing')['Incoming Wait Time'].count()\n",
    "print(south_pattern)\n",
    "#shows that outgoing calls have missing data in Incoming wait time"
   ]
  },
  {
   "cell_type": "markdown",
   "id": "0dc5c568-40db-4889-b82b-64610d8058d2",
   "metadata": {},
   "source": [
    "#### Record your answer below:\n",
    "\n",
    "> Your Answer: \"Incoming Wait Time\" has missing data in both North and South data. However if you look at the pattern of the missing data, it is clear that only \"Outgoing calls\" have no Incoming Wait Time which makes sense so we can leave it as is."
   ]
  },
  {
   "cell_type": "markdown",
   "id": "dc47f020",
   "metadata": {},
   "source": [
    "#### Cleaning Question 2:  In the North data set, there are two separate \"YES\" values for a sale. Why and how did you rectify the issue?"
   ]
  },
  {
   "cell_type": "code",
   "execution_count": 14,
   "id": "4e0fbad6",
   "metadata": {},
   "outputs": [
    {
     "name": "stdout",
     "output_type": "stream",
     "text": [
      "Unique values in the 'Sale' column BEFORE strip: ['NO' 'YES ' 'YES']\n",
      "Unique values in the 'Sale' column AFTER strip: ['NO' 'YES']\n"
     ]
    }
   ],
   "source": [
    "# Cleaning Question 2 solution below:\n",
    "\n",
    "unique_sale_values = north_df['Sale'].unique()\n",
    "print(f\"Unique values in the 'Sale' column BEFORE strip: {unique_sale_values}\")\n",
    "\n",
    "north_df_striped = north_df\n",
    "\n",
    "north_df_striped['Sale'] = north_df['Sale'].str.strip()\n",
    "unique_sale_values = north_df_striped['Sale'].unique()\n",
    "\n",
    "print(f\"Unique values in the 'Sale' column AFTER strip: {unique_sale_values}\")"
   ]
  },
  {
   "cell_type": "markdown",
   "id": "cf81b612-eb6b-45a6-ac8e-d6f4e08131a8",
   "metadata": {},
   "source": [
    "##### Record your answer by below:\n",
    "> Your Answer: Based on the unique values we can see that there are 2 YES values. The reason is the extra space at the end of YES. This can be rectified bu using a strip function to remove extra spaces before and after the value."
   ]
  },
  {
   "cell_type": "markdown",
   "id": "715f375a",
   "metadata": {},
   "source": [
    "#### Cleaning Question 3:  Are there duplicates in the two data sets? If there are, how did you handle them?"
   ]
  },
  {
   "cell_type": "code",
   "execution_count": 15,
   "id": "2323673a",
   "metadata": {},
   "outputs": [
    {
     "name": "stdout",
     "output_type": "stream",
     "text": [
      "Duplicates in north branch: 0\n",
      "Duplicates in south branch: 0\n"
     ]
    }
   ],
   "source": [
    "# Cleaning Question 3 solution below:\n",
    "\n",
    "north_duplicates = north_df.duplicated().sum()\n",
    "south_duplicates = south_df.duplicated().sum()\n",
    "\n",
    "print(f\"Duplicates in north branch: {north_duplicates}\")\n",
    "print(f\"Duplicates in south branch: {south_duplicates}\")\n"
   ]
  },
  {
   "cell_type": "markdown",
   "id": "4fbfe2e8-490a-48dc-b0ca-599879076c62",
   "metadata": {},
   "source": [
    "##### Record your answer below:\n",
    "> Your Answer: There are not duplicates in the data sets"
   ]
  },
  {
   "cell_type": "markdown",
   "id": "8ffaa865",
   "metadata": {},
   "source": [
    "#### Cleaning Question 4:  Is any of the data in the two data sets unnecessary? If yes, how did you handle it?"
   ]
  },
  {
   "cell_type": "markdown",
   "id": "689e76b9-64d2-45d7-883a-b8c4d822e0c8",
   "metadata": {},
   "source": [
    "##### Record your answer below:\n",
    "> Your Answer: All columns are necessary"
   ]
  },
  {
   "cell_type": "markdown",
   "id": "73342a9a",
   "metadata": {},
   "source": [
    "## Task 3: Data Manipulation\n",
    "Before you begin answering any questions, combine the two datasets together to create a third dataframe called df. You can use this third dataframe to compare the two call centers to company-wide trends.\n",
    "* Add additional code blocks as needed to show how you came to your conclusions. Add comments in your code blocks to help others understand your thinking. Record your answer below."
   ]
  },
  {
   "cell_type": "code",
   "execution_count": 16,
   "id": "e9705c34",
   "metadata": {},
   "outputs": [
    {
     "name": "stdout",
     "output_type": "stream",
     "text": [
      "<class 'pandas.core.frame.DataFrame'>\n",
      "RangeIndex: 559 entries, 0 to 558\n",
      "Data columns (total 15 columns):\n",
      " #   Column                 Non-Null Count  Dtype  \n",
      "---  ------                 --------------  -----  \n",
      " 0   Unnamed: 0             559 non-null    int64  \n",
      " 1   Branch                 559 non-null    object \n",
      " 2   Call Purpose           559 non-null    object \n",
      " 3   Time Block             559 non-null    object \n",
      " 4   Incoming or Outgoing   559 non-null    object \n",
      " 5   Queue                  559 non-null    object \n",
      " 6   Rep ID                 559 non-null    object \n",
      " 7   Sale                   559 non-null    object \n",
      " 8   Lost Call              559 non-null    int64  \n",
      " 9   Abandoned              559 non-null    int64  \n",
      " 10  Busy Minutes           559 non-null    int64  \n",
      " 11  Not Ready Minutes      559 non-null    int64  \n",
      " 12  Incoming Wait Time     208 non-null    float64\n",
      " 13  During Call Wait Time  559 non-null    int64  \n",
      " 14  Calls                  559 non-null    int64  \n",
      "dtypes: float64(1), int64(7), object(7)\n",
      "memory usage: 65.6+ KB\n"
     ]
    }
   ],
   "source": [
    "# Create dataframe for the entire company named df\n",
    "CallCenter_combined_df = pd.concat([south_df, north_df], ignore_index=True)\n",
    "CallCenter_combined_df.head()\n",
    "CallCenter_combined_df.info()\n"
   ]
  },
  {
   "cell_type": "markdown",
   "id": "7e87dfd1",
   "metadata": {},
   "source": [
    "#### Manipulation Question 1:  Group by Rep ID and sum the resulting structure. Sort by calls to determine which rep in each branch has the highest number of calls."
   ]
  },
  {
   "cell_type": "code",
   "execution_count": 17,
   "id": "bf37135c",
   "metadata": {},
   "outputs": [
    {
     "name": "stdout",
     "output_type": "stream",
     "text": [
      "Representative with the highest number of calls in each branch:\n",
      "  Branch Rep ID  Calls\n",
      "0  North  Brent     37\n",
      "1  South   Eric     35\n"
     ]
    }
   ],
   "source": [
    "# Manipulation Question 1 solution below:\n",
    "Rep_highestcalls = CallCenter_combined_df.groupby(['Branch', 'Rep ID'])['Calls'].sum().reset_index()\n",
    "Rep_highestcalls_sort = Rep_highestcalls.sort_values(['Branch','Calls'], ascending=[True,False])\n",
    "\n",
    "Top_reps_by_branch = Rep_highestcalls_sort.groupby('Branch').first().reset_index()\n",
    "\n",
    "print(\"Representative with the highest number of calls in each branch:\")\n",
    "print(Top_reps_by_branch)\n",
    "\n"
   ]
  },
  {
   "cell_type": "markdown",
   "id": "7c29838c-1402-4e4b-94c9-050515d8dd18",
   "metadata": {},
   "source": [
    "##### Record your answer below\n",
    "Rep with the hightest number of calls and their total calls:\n",
    "- North Branch = Brent 37\n",
    "- South Branch = Eric  35"
   ]
  },
  {
   "cell_type": "markdown",
   "id": "809293b9",
   "metadata": {},
   "source": [
    "#### Manipulation Question 2:  The average call abandonment rate is a KPI when it comes to determining call center efficiency. As you may recall, abandoned calls are calls where the customer hangs up due to long call times. What is the average call abandonment rate for each branch and the whole company? Do any of these fall out of the optimal range of 2-5%?"
   ]
  },
  {
   "cell_type": "code",
   "execution_count": 18,
   "id": "439b70c9",
   "metadata": {},
   "outputs": [
    {
     "name": "stdout",
     "output_type": "stream",
     "text": [
      "Call abandonment rate by branch:\n",
      "Branch\n",
      "North    2.86%\n",
      "South    1.27%\n",
      "dtype: object\n",
      "\n",
      "Overall company abandonment rate: 1.97%\n",
      "\n",
      "Comparison to optimal range (2-5%):\n",
      "         Rate                        Status\n",
      "Branch                                     \n",
      "North   2.86%      Good (within 2-5% range)\n",
      "South   1.27%  Needs improvement (below 2%)\n",
      "\n",
      "Overall company performance:\n",
      "Company: 1.97% - Needs improvement (below 2%)\n"
     ]
    }
   ],
   "source": [
    "\n",
    "branch_totals = CallCenter_combined_df.groupby('Branch').sum()\n",
    "branch_rates = branch_totals['Abandoned'] / branch_totals['Calls']\n",
    "branch_rates_formatted = branch_rates.map(\"{:.2%}\".format) #format branch rates as percentage\n",
    "\n",
    "print(\"Call abandonment rate by branch:\")\n",
    "print(branch_rates_formatted)\n",
    "\n",
    "\n",
    "company_rate = CallCenter_combined_df['Abandoned'].sum() / CallCenter_combined_df['Calls'].sum() #overall company abandonment rate\n",
    "print(f\"\\nOverall company abandonment rate: {company_rate:.2%}\")\n",
    "\n",
    "\n",
    "def check_if_rate_is_good(rate):\n",
    "    if rate < 0.02:\n",
    "        return 'Needs improvement (below 2%)'\n",
    "    elif rate <= 0.05:\n",
    "        return 'Good (within 2-5% range)'\n",
    "    else:\n",
    "        return 'Needs improvement (above 5%)'\n",
    "\n",
    "branch_status = branch_rates.map(check_if_rate_is_good)\n",
    "company_status = check_if_rate_is_good(company_rate)\n",
    "\n",
    "branch_comparison = pd.concat([branch_rates_formatted, branch_status], axis=1)\n",
    "branch_comparison.columns = ['Rate', 'Status']\n",
    "\n",
    "print(\"\\nComparison to optimal range (2-5%):\")\n",
    "print(branch_comparison)\n",
    "\n",
    "print(\"\\nOverall company performance:\")\n",
    "print(f\"Company: {company_rate:.2%} - {company_status}\")"
   ]
  },
  {
   "cell_type": "markdown",
   "id": "c284596f-218f-4291-81b6-718ea5671feb",
   "metadata": {},
   "source": [
    "##### Record your answer below:\n",
    "Average Call Abandonment Rates (round to the nearest hundredth):\n",
    "- North Branch = 2.86% - within range\n",
    "- South Branch = 1.27% - Out of range\n",
    "- Company Wide = 1.97% - Out of range\n",
    "- Do any of these fall out of the optimal range of 2-5%? Yes - South Branch and Company Wide are below 2%. Since Company wide is barely below 2 and can be rounded up we can ignore that if needed. However, South Branch is well below 2%"
   ]
  },
  {
   "cell_type": "markdown",
   "id": "598bb1bf",
   "metadata": {},
   "source": [
    "#### Manipulation Question 3:  Service level is another KPI when it comes to measuring call center efficiency. Service level is the percentage of calls answered within a specific number of seconds. In the case of your employer, their ideal time frame is 2 seconds. What is the percentage of calls answered within 2 seconds for each branch and the entire company?"
   ]
  },
  {
   "cell_type": "code",
   "execution_count": 19,
   "id": "3d9c1c8e",
   "metadata": {},
   "outputs": [
    {
     "name": "stdout",
     "output_type": "stream",
     "text": [
      "Percentage of calls answered within 2 seconds (Incoming calls only):\n",
      "North: 40.24% and 33 calls out of 82 total calls\n",
      "South: 38.10% and 48 calls out of 126 total calls\n",
      "Company Wide: 38.94% and 81 calls out of 208 total calls\n"
     ]
    }
   ],
   "source": [
    "incoming_calls = CallCenter_combined_df[CallCenter_combined_df['Incoming or Outgoing'] == 'Incoming']\n",
    "branches = ['North', 'South', 'Company Wide']\n",
    "results = []\n",
    "\n",
    "for branch in branches:\n",
    "    if branch != 'Company Wide':\n",
    "        calls = incoming_calls[incoming_calls['Branch'] == branch]\n",
    "    else:\n",
    "        calls = incoming_calls\n",
    "    \n",
    "    total_calls = len(calls)\n",
    "    calls_within_2s = sum(calls['Incoming Wait Time'] <= 2)\n",
    "    service_level = (calls_within_2s / total_calls) * 100\n",
    "    \n",
    "    results.append((branch, service_level, calls_within_2s, total_calls))\n",
    "\n",
    "print(\"Percentage of calls answered within 2 seconds (Incoming calls only):\")\n",
    "for branch, service_level, calls_within_2s, total_calls in results:\n",
    "    print(f\"{branch}: {service_level:.2f}% and {calls_within_2s} calls out of {total_calls} total calls\")"
   ]
  },
  {
   "cell_type": "markdown",
   "id": "e3a4c9d9-4e11-4e1f-859a-d2c919f7d9ce",
   "metadata": {},
   "source": [
    "##### Record your answer below:\n",
    "Percentage of calls answered within 2 seconds, include # of calls:\n",
    "- North Branch = 40.24% and 33 calls out of 82 total calls\n",
    "- South Branch = 38.10% and 48 calls out of 126 total calls\n",
    "- Company Wide = 38.94% and 81 calls out of 208 total calls"
   ]
  },
  {
   "cell_type": "markdown",
   "id": "7e19e705",
   "metadata": {},
   "source": [
    "#### Manipulation Question 4: For each branch and the entire company, what is the average speed of answer?"
   ]
  },
  {
   "cell_type": "code",
   "execution_count": 20,
   "id": "7cf7be51",
   "metadata": {},
   "outputs": [
    {
     "name": "stdout",
     "output_type": "stream",
     "text": [
      "Average Speed of Answer (in seconds):\n",
      "North: 3.05\n",
      "South: 3.00\n",
      "Entire Company: 3.02\n"
     ]
    }
   ],
   "source": [
    "\n",
    "incoming_calls = CallCenter_combined_df[CallCenter_combined_df['Incoming or Outgoing'] == 'Incoming']\n",
    "branches = ['North', 'South', 'Entire Company']\n",
    "print(\"Average Speed of Answer (in seconds):\")\n",
    "\n",
    "for branch in branches:\n",
    "    if branch == 'Entire Company':\n",
    "        calls = incoming_calls\n",
    "    else:\n",
    "        calls = incoming_calls[incoming_calls['Branch'] == branch]\n",
    "    \n",
    "    if len(calls) > 0:\n",
    "        average_wait_time = calls['Incoming Wait Time'].mean()\n",
    "        print(f\"{branch}: {average_wait_time:.2f}\")\n",
    "    else:\n",
    "        print(f\"{branch}: No data available\")"
   ]
  },
  {
   "cell_type": "markdown",
   "id": "fb04c65b-442b-48e1-b22c-b2af8b835ffd",
   "metadata": {},
   "source": [
    "##### Record your answer by below:\n",
    "Average speed of answer (rounded to nearest hundredth):\n",
    "- North Branch in seconds = 3.05\n",
    "- South Branch in seconds = 3.00\n",
    "- Company Wide in seconds = 3.02"
   ]
  },
  {
   "cell_type": "markdown",
   "id": "d5f50a40",
   "metadata": {},
   "source": [
    "## Task 4: Visualization\n",
    "\n",
    "Create a visualization for each of the following questions. Some of the code to handle aggregating and storing data may be written for you. For each visualization, you choose the chart style that you feel suits the situation best. Make note of the chart style you chose and why. \n",
    "\n",
    "*NOTE Some questions you may decide to use more than one chart and or chart style."
   ]
  },
  {
   "cell_type": "markdown",
   "id": "66ccf83c",
   "metadata": {},
   "source": [
    "#### Visualization 1:  What is the average abandonment rate per queue?"
   ]
  },
  {
   "cell_type": "code",
   "execution_count": 22,
   "id": "c971d779",
   "metadata": {},
   "outputs": [
    {
     "name": "stderr",
     "output_type": "stream",
     "text": [
      "C:\\Users\\dhivy\\AppData\\Local\\Temp\\ipykernel_26896\\2892018458.py:10: FutureWarning: Series.__getitem__ treating keys as positions is deprecated. In a future version, integer keys will always be treated as labels (consistent with DataFrame behavior). To access a value by position, use `ser.iloc[pos]`\n",
      "  abandonment_rates[queues[i]] = queue_dict[\"Abandoned\"][i] / queue_dict[\"Calls\"][i]\n"
     ]
    },
    {
     "data": {
      "image/png": "[encoded data removed]",
      "text/plain": [
       "<Figure size 1000x600 with 1 Axes>"
      ]
     },
     "metadata": {},
     "output_type": "display_data"
    }
   ],
   "source": [
    "# Create visualization 1 here\n",
    "# Import any additional libraries needed with alias\n",
    "import matplotlib.pyplot as plt\n",
    "\n",
    "# The dictionary abandonment_rates has the data you need.\n",
    "abandonment_rates = {}\n",
    "queues = [\"A\", \"B\", \"C\", \"D\"]\n",
    "queue_dict = CallCenter_combined_df.groupby(\"Queue\").agg(\"sum\")\n",
    "for i in range(4):\n",
    "    abandonment_rates[queues[i]] = queue_dict[\"Abandoned\"][i] / queue_dict[\"Calls\"][i] \n",
    "    \n",
    "#Your code below:\n",
    "\n",
    "plt.figure(figsize=(10, 6))\n",
    "bars = plt.bar(abandonment_rates.keys(), abandonment_rates.values())\n",
    "\n",
    "plt.title('Average Abandonment Rate per Queue')\n",
    "plt.xlabel('Queue')\n",
    "plt.ylabel('Abandonment Rate')\n",
    "\n",
    "plt.bar_label(bars, fmt='%.2f%%', padding=3)\n",
    "\n",
    "plt.grid(axis='y', linestyle='--', alpha=0.7)\n",
    "\n",
    "plt.tight_layout()\n",
    "plt.show()"
   ]
  },
  {
   "cell_type": "markdown",
   "id": "00a821e7-b296-4950-8889-dacf36ef37fb",
   "metadata": {},
   "source": [
    "##### Record your answer below:\n",
    "\n",
    "> Chart style you chose and why: I chosee a bar chart as this is for comparison among items with just 4 categories. "
   ]
  },
  {
   "cell_type": "markdown",
   "id": "4a9fc77f",
   "metadata": {},
   "source": [
    "#### Visualization 2: What is the service level percentage and average speed of answer for each rep in the North Branch?"
   ]
  },
  {
   "cell_type": "code",
   "execution_count": 30,
   "id": "61f65a7f",
   "metadata": {},
   "outputs": [
    {
     "data": {
      "image/png": "[encoded data removed]",
      "text/plain": [
       "<Figure size 1200x600 with 2 Axes>"
      ]
     },
     "metadata": {},
     "output_type": "display_data"
    }
   ],
   "source": [
    "# Create visualization 2 here\n",
    "# north_plt contains the data you need for the average speed of answer of each rep\n",
    "north = north_df\n",
    "north_plt = north.groupby(\"Rep ID\")[\"Incoming Wait Time\"].mean().to_frame().reset_index()\n",
    "\n",
    "# Finding each Rep's Personal Service Level Percentage.  Basically, Calls within 2 secs / total calls\n",
    "\n",
    "# Table 1: Total Incoming calls less than 2 seconds grouped by Rep\n",
    "quick_calls = north[north[\"Incoming Wait Time\"] <= 2.0]\n",
    "quick_reps = quick_calls[[\"Rep ID\", \"Calls\"]]\n",
    "quick_stats = quick_reps.groupby([\"Rep ID\"]).sum()  # Final Table\n",
    "\n",
    "\n",
    "# Table 2: Total Incoming Calls Only grouped by Rep\n",
    "total_calls_in = north[north[\"Incoming or Outgoing\"] == \"Incoming\"]\n",
    "rep_calls = total_calls_in[[\"Rep ID\", \"Calls\"]]     \n",
    "total_stats = rep_calls.groupby([\"Rep ID\"]).sum() # Final Table  \n",
    "\n",
    "#  Table 3: Service Level Percentage created via merge\n",
    "service_level = pd.merge(quick_stats, total_stats, on=\"Rep ID\")\n",
    "\n",
    "# Create Percentage Column in Table 3\n",
    "service_level[\"Service Level %\"] = service_level[\"Calls_x\"]/service_level[\"Calls_y\"] * 100\n",
    "\n",
    "#Your Code Here:\n",
    "\n",
    "total_calls_in = north[north[\"Incoming or Outgoing\"] == \"Incoming\"]\n",
    "rep_calls = total_calls_in[[\"Rep ID\", \"Calls\"]]     \n",
    "total_stats = rep_calls.groupby([\"Rep ID\"]).sum() # Final Table  \n",
    "\n",
    "service_level = pd.merge(quick_stats, total_stats, on=\"Rep ID\")\n",
    "\n",
    "service_level[\"Service Level %\"] = service_level[\"Calls_x\"]/service_level[\"Calls_y\"] * 100\n",
    "\n",
    "combined_data = pd.merge(service_level, north_plt, on=\"Rep ID\")\n",
    "\n",
    "fig, ax1 = plt.subplots(figsize=(12, 6))\n",
    "\n",
    "bars = ax1.bar(combined_data[\"Rep ID\"], combined_data[\"Service Level %\"], color='skyblue', alpha=0.7)\n",
    "ax1.set_ylabel(\"Service Level %\")\n",
    "ax1.tick_params(axis='y')\n",
    "\n",
    "ax2 = ax1.twinx()\n",
    "ax2.plot(combined_data[\"Rep ID\"], combined_data[\"Incoming Wait Time\"], color='red', marker='o')\n",
    "ax2.set_ylabel(\"Average Speed of Answer (seconds)\", color='red')\n",
    "ax2.tick_params(axis='y', labelcolor='red')\n",
    "\n",
    "plt.title(\"Service Level % and Average Speed of Answer by Rep (North Branch)\", fontsize=16)\n",
    "\n",
    "ax1.bar_label(bars, fmt='%.1f%%')\n",
    "\n",
    "lines1, labels1 = ax1.get_legend_handles_labels()\n",
    "lines2, labels2 = ax2.get_legend_handles_labels()\n",
    "ax1.legend(lines1 + lines2, ['Service Level %', 'Avg Speed of Answer'], loc='upper right')\n",
    "\n",
    "plt.show()"
   ]
  },
  {
   "cell_type": "markdown",
   "id": "4d4cad4d-f9fb-4927-8a45-4b5cd17edd3a",
   "metadata": {},
   "source": [
    "##### Record your answer below:\n",
    "\n",
    "> Chart style you chose and why: I used a mixed chart with both line and bar elements. This shows both the information and lets the user correlate the 2 different information. For example Brent has low speed of answer and that corresponds to higher service level %age. I tried using grouped column chart but that didn't show the correlation well"
   ]
  },
  {
   "cell_type": "markdown",
   "id": "f965e41a",
   "metadata": {},
   "source": [
    "#### Visualization 3: For each type of call purpose, how many calls are outgoing vs. incoming?"
   ]
  },
  {
   "cell_type": "code",
   "execution_count": 32,
   "id": "44096730",
   "metadata": {},
   "outputs": [
    {
     "name": "stdout",
     "output_type": "stream",
     "text": [
      "Call Purpose     Incoming or Outgoing\n",
      "Complaint        Incoming                 51\n",
      "Product Support  Outgoing                228\n",
      "                 Incoming                 82\n",
      "Sales Support    Outgoing                123\n",
      "                 Incoming                 75\n",
      "Name: count, dtype: int64\n"
     ]
    },
    {
     "data": {
      "image/png": "[encoded data removed]",
      "text/plain": [
       "<Figure size 1000x600 with 1 Axes>"
      ]
     },
     "metadata": {},
     "output_type": "display_data"
    }
   ],
   "source": [
    "\n",
    "# Create visualization 3 here:\n",
    "# The three dictionaries, complaints, sales_support, and product_support, have the information you need\n",
    "df = CallCenter_combined_df\n",
    "purpose_group = df.groupby(\"Call Purpose\")\n",
    "call_purpose = [\"Complaint\", \"Product Support\", \"Sales Support\"]\n",
    "purpose_counts = purpose_group[\"Incoming or Outgoing\"].value_counts()\n",
    "print(purpose_counts)\n",
    "\n",
    "complaints = purpose_counts[\"Complaint\"].to_dict()\n",
    "sales_support = purpose_counts[\"Sales Support\"].to_dict()\n",
    "product_support = purpose_counts[\"Product Support\"].to_dict()\n",
    "\n",
    "#Your Code Here:\n",
    "\n",
    "\n",
    "purposes = ['Complaint', 'Product Support', 'Sales Support']\n",
    "incoming = [complaints.get('Incoming', 0), product_support.get('Incoming', 0), sales_support.get('Incoming', 0)]\n",
    "outgoing = [complaints.get('Outgoing', 0), product_support.get('Outgoing', 0), sales_support.get('Outgoing', 0)]\n",
    "\n",
    "\n",
    "fig, ax = plt.subplots(figsize=(10, 6))\n",
    "\n",
    "\n",
    "width = 0.35\n",
    "x = range(len(purposes))\n",
    "\n",
    "\n",
    "incoming_bars = ax.bar([i - width/2 for i in x], incoming, width, label='Incoming', color='blue')\n",
    "outgoing_bars = ax.bar([i + width/2 for i in x], outgoing, width, label='Outgoing', color='green')\n",
    "\n",
    "\n",
    "ax.set_ylabel('Number of Calls')\n",
    "ax.set_title('Incoming vs Outgoing Calls by Call Purpose')\n",
    "ax.set_xticks(x)\n",
    "ax.set_xticklabels(purposes)\n",
    "ax.legend()\n",
    "\n",
    "\n",
    "ax.bar_label(incoming_bars, padding=3)\n",
    "ax.bar_label(outgoing_bars, padding=3)\n",
    "\n",
    "\n",
    "plt.tight_layout()\n",
    "plt.show()"
   ]
  },
  {
   "cell_type": "markdown",
   "id": "9198bbe4-44ef-4e21-bd40-6ace8e9f7694",
   "metadata": {},
   "source": [
    "##### Record your answer below:\n",
    "\n",
    "> Chart style you chose and why: Chart style you chose and why: I chose a grouped bar chart because it is for comparison where you can see the comparison between the Incoming Vs Outgoing per category and also across categories very easily"
   ]
  },
  {
   "cell_type": "markdown",
   "id": "ea7ed568",
   "metadata": {},
   "source": [
    "## Task 5: Summarize Your Work\n",
    "\n",
    "With what you know now about the two call centers and the entire company, answer the following questions. Note that while this is subjective, you should include relevant data to back up your opinion.\n"
   ]
  },
  {
   "cell_type": "markdown",
   "id": "d2fc3d13",
   "metadata": {},
   "source": [
    "#### Summary Question 1:  Using KPIs such as average abandonment rate, service level and average speed of answer, in your opinion, which one of the two branches is operating more efficiently? Why?\n",
    "\n",
    "##### Record your answer below:\n",
    "> Your Answer: \n",
    "The South branch appears to be operating more efficiently overall. Here's why:\n",
    "\n",
    ">Call abandnment rate: The South branch has a significantly lower abandonment rate (1.27% vs 2.86%). This means fewer callers are hanging up before being served, indicating better customer satisfaction and potentially fewer lost business opprtunities.\n",
    "\n",
    ">Average Speed of Answer: The South branch is slightly faster in answering calls (3.00 seconds vs 3.05 seconds). While the difference is small, it still favors the south branch.\n",
    "\n",
    ">Service level: The North branch has a slightly higher percentage of calls answered within 2 seconds (40.24% vs 38.10%). This is the only metric where the North branch performs better, but the difference is relatively s>mall.\n",
    "\n",
    "Considering these factors, the South branch seems more efficient because Its significantly lower abandonment rate suggests better overall customer experience and potentially higher customer rtention.\n",
    "It maintains a comparable service level and average speed of answer to the North branch, while handling more calls (314 vs 245) with only slightly more reps (11 vs 9).\n",
    "\n",
    "\n"
   ]
  },
  {
   "cell_type": "markdown",
   "id": "489f28d6",
   "metadata": {},
   "source": [
    "#### Summary Question 2: Based on the number of reps in each branch and how quickly the reps are working, in your opinion, which branch would benefit from the extra help?\n",
    "\n",
    "##### Record your answer below:\n",
    "> Your Answer: The North branch would likely benefit more from extra help. It is because they have fewer reps (9 vs 11) handling a similar workload per person. North has higher call abandonment rate (2.86% vs 1.27%) and slightly longer average wait times. "
   ]
  },
  {
   "cell_type": "markdown",
   "id": "0b10a8c3",
   "metadata": {},
   "source": [
    "#### Summary Question 3: Now that you have explored the datasets, is there any data or information that you wish you had in this analysis?\n",
    "\n",
    "##### Record your answer below:\n",
    "> Your Answer: \n",
    " It will be nice to have more data since the difference in metrics between the call centers isn't much. It will good to have Customer Satisfaction Scores based on survey and Reason for Call abondonment. It is also be good to get a complexity score for the call issue which will explain wait times. "
   ]
  },
  {
   "cell_type": "markdown",
   "id": "ce16f43d",
   "metadata": {},
   "source": [
    "## Bonus Mission\n",
    "Create a visualization that answers this question: For each call purpose, how many calls (incoming and outgoing) take place in each time block?\n",
    "##### Record your answer below:\n"
   ]
  },
  {
   "cell_type": "code",
   "execution_count": null,
   "id": "29b18a57",
   "metadata": {},
   "outputs": [],
   "source": []
  }
 ],
 "metadata": {
  "kernelspec": {
   "display_name": "Python 3 (ipykernel)",
   "language": "python",
   "name": "python3"
  },
  "language_info": {
   "codemirror_mode": {
    "name": "ipython",
    "version": 3
   },
   "file_extension": ".py",
   "mimetype": "text/x-python",
   "name": "python",
   "nbconvert_exporter": "python",
   "pygments_lexer": "ipython3",
   "version": "3.12.4"
  }
 },
 "nbformat": 4,
 "nbformat_minor": 5
}
